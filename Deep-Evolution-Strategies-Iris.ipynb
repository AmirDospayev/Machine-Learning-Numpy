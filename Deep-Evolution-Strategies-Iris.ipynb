{
 "cells": [
  {
   "cell_type": "code",
   "execution_count": 1,
   "metadata": {},
   "outputs": [
    {
     "name": "stderr",
     "output_type": "stream",
     "text": [
      "/usr/local/lib/python3.5/dist-packages/sklearn/cross_validation.py:41: DeprecationWarning: This module was deprecated in version 0.18 in favor of the model_selection module into which all the refactored classes and functions are moved. Also note that the interface of the new CV iterators are different from that of this module. This module will be removed in 0.20.\n",
      "  \"This module will be removed in 0.20.\", DeprecationWarning)\n"
     ]
    }
   ],
   "source": [
    "import numpy as np\n",
    "import time\n",
    "from evolution_strategy import *\n",
    "from function import *\n",
    "import pandas as pd\n",
    "from sklearn.decomposition import PCA\n",
    "from sklearn.preprocessing import MinMaxScaler\n",
    "from sklearn.preprocessing import LabelEncoder\n",
    "from sklearn.cross_validation import train_test_split\n",
    "from sklearn import metrics\n",
    "import matplotlib.pyplot as plt\n",
    "import seaborn as sns\n",
    "sns.set()"
   ]
  },
  {
   "cell_type": "code",
   "execution_count": 2,
   "metadata": {},
   "outputs": [
    {
     "data": {
      "text/html": [
       "<div>\n",
       "<style>\n",
       "    .dataframe thead tr:only-child th {\n",
       "        text-align: right;\n",
       "    }\n",
       "\n",
       "    .dataframe thead th {\n",
       "        text-align: left;\n",
       "    }\n",
       "\n",
       "    .dataframe tbody tr th {\n",
       "        vertical-align: top;\n",
       "    }\n",
       "</style>\n",
       "<table border=\"1\" class=\"dataframe\">\n",
       "  <thead>\n",
       "    <tr style=\"text-align: right;\">\n",
       "      <th></th>\n",
       "      <th>Id</th>\n",
       "      <th>SepalLengthCm</th>\n",
       "      <th>SepalWidthCm</th>\n",
       "      <th>PetalLengthCm</th>\n",
       "      <th>PetalWidthCm</th>\n",
       "      <th>Species</th>\n",
       "    </tr>\n",
       "  </thead>\n",
       "  <tbody>\n",
       "    <tr>\n",
       "      <th>0</th>\n",
       "      <td>1</td>\n",
       "      <td>5.1</td>\n",
       "      <td>3.5</td>\n",
       "      <td>1.4</td>\n",
       "      <td>0.2</td>\n",
       "      <td>Iris-setosa</td>\n",
       "    </tr>\n",
       "    <tr>\n",
       "      <th>1</th>\n",
       "      <td>2</td>\n",
       "      <td>4.9</td>\n",
       "      <td>3.0</td>\n",
       "      <td>1.4</td>\n",
       "      <td>0.2</td>\n",
       "      <td>Iris-setosa</td>\n",
       "    </tr>\n",
       "    <tr>\n",
       "      <th>2</th>\n",
       "      <td>3</td>\n",
       "      <td>4.7</td>\n",
       "      <td>3.2</td>\n",
       "      <td>1.3</td>\n",
       "      <td>0.2</td>\n",
       "      <td>Iris-setosa</td>\n",
       "    </tr>\n",
       "    <tr>\n",
       "      <th>3</th>\n",
       "      <td>4</td>\n",
       "      <td>4.6</td>\n",
       "      <td>3.1</td>\n",
       "      <td>1.5</td>\n",
       "      <td>0.2</td>\n",
       "      <td>Iris-setosa</td>\n",
       "    </tr>\n",
       "    <tr>\n",
       "      <th>4</th>\n",
       "      <td>5</td>\n",
       "      <td>5.0</td>\n",
       "      <td>3.6</td>\n",
       "      <td>1.4</td>\n",
       "      <td>0.2</td>\n",
       "      <td>Iris-setosa</td>\n",
       "    </tr>\n",
       "  </tbody>\n",
       "</table>\n",
       "</div>"
      ],
      "text/plain": [
       "   Id  SepalLengthCm  SepalWidthCm  PetalLengthCm  PetalWidthCm      Species\n",
       "0   1            5.1           3.5            1.4           0.2  Iris-setosa\n",
       "1   2            4.9           3.0            1.4           0.2  Iris-setosa\n",
       "2   3            4.7           3.2            1.3           0.2  Iris-setosa\n",
       "3   4            4.6           3.1            1.5           0.2  Iris-setosa\n",
       "4   5            5.0           3.6            1.4           0.2  Iris-setosa"
      ]
     },
     "execution_count": 2,
     "metadata": {},
     "output_type": "execute_result"
    }
   ],
   "source": [
    "df = pd.read_csv('Iris.csv')\n",
    "df.head()"
   ]
  },
  {
   "cell_type": "code",
   "execution_count": 3,
   "metadata": {},
   "outputs": [],
   "source": [
    "X = PCA(n_components=2).fit_transform(MinMaxScaler().fit_transform(df.iloc[:, 1:-1]))\n",
    "Y = LabelEncoder().fit_transform(df.iloc[:, -1])\n",
    "one_hot = np.zeros((Y.shape[0], 3))\n",
    "for i in range(Y.shape[0]):\n",
    "    one_hot[i, Y[i]] = 1.0\n",
    "    \n",
    "train_X, test_X, train_Y, test_Y, train_label, test_label = train_test_split(X,one_hot,Y, test_size = 0.2)"
   ]
  },
  {
   "cell_type": "code",
   "execution_count": 4,
   "metadata": {},
   "outputs": [
    {
     "data": {
      "text/plain": [
       "(150, 2)"
      ]
     },
     "execution_count": 4,
     "metadata": {},
     "output_type": "execute_result"
    }
   ],
   "source": [
    "X.shape"
   ]
  },
  {
   "cell_type": "code",
   "execution_count": 5,
   "metadata": {},
   "outputs": [
    {
     "name": "stdout",
     "output_type": "stream",
     "text": [
      "iter 50. reward: -1.940076\n",
      "iter 100. reward: -1.612582\n",
      "iter 150. reward: -1.287847\n",
      "iter 200. reward: -0.972405\n",
      "iter 250. reward: -0.712362\n",
      "iter 300. reward: -0.531363\n",
      "iter 350. reward: -0.404615\n",
      "iter 400. reward: -0.360060\n",
      "iter 450. reward: -0.343336\n",
      "iter 500. reward: -0.327325\n",
      "iter 550. reward: -0.310035\n",
      "iter 600. reward: -0.293520\n",
      "iter 650. reward: -0.277492\n",
      "iter 700. reward: -0.261130\n",
      "iter 750. reward: -0.245748\n",
      "iter 800. reward: -0.231955\n",
      "iter 850. reward: -0.219287\n",
      "iter 900. reward: -0.207579\n",
      "iter 950. reward: -0.197883\n",
      "iter 1000. reward: -0.188847\n",
      "time taken to train: 5.6465232372283936 seconds\n"
     ]
    }
   ],
   "source": [
    "size_population = 50\n",
    "sigma = 0.1\n",
    "learning_rate = 0.001\n",
    "epoch = 500\n",
    "\n",
    "'''\n",
    "class Deep_Evolution_Strategy:\n",
    "    \n",
    "    def __init__(self, weights, inputs, solutions, reward_function, population_size, sigma, learning_rate):\n",
    "    \n",
    "weights = array of weights, no safe checking\n",
    "inputs = our input matrix\n",
    "solutions = our Y matrix\n",
    "reward_function = cost function, can check function.py\n",
    "\n",
    "Check example below on how to initialize the model and train any dataset\n",
    "\n",
    "len(activations) == len(weights)\n",
    "\n",
    "def train(self, epoch = 100, print_every = 5, activation_function = None):\n",
    "'''\n",
    "\n",
    "weights = [np.random.randn(X.shape[1]),\n",
    "           np.random.randn(X.shape[1],20),\n",
    "           np.random.randn(20,one_hot.shape[1])]\n",
    "activations = [sigmoid, sigmoid, softmax]\n",
    "deep_evolution = Deep_Evolution_Strategy(weights, train_X, train_Y, cross_entropy, size_population, sigma, learning_rate)\n",
    "deep_evolution.train(epoch=1000,print_every = 50, activation_function = activations)"
   ]
  },
  {
   "cell_type": "markdown",
   "metadata": {},
   "source": [
    "### Accuracy training"
   ]
  },
  {
   "cell_type": "code",
   "execution_count": 6,
   "metadata": {},
   "outputs": [
    {
     "name": "stdout",
     "output_type": "stream",
     "text": [
      "             precision    recall  f1-score   support\n",
      "\n",
      "   flower 1       1.00      0.93      0.96        40\n",
      "   flower 2       0.67      0.97      0.79        29\n",
      "   flower 3       0.98      0.78      0.87        51\n",
      "\n",
      "avg / total       0.91      0.88      0.88       120\n",
      "\n"
     ]
    }
   ],
   "source": [
    "predicted= np.argmax(deep_evolution.predict(deep_evolution.get_weight(), train_X, activation_function = activations),axis=1)\n",
    "print(metrics.classification_report(predicted, np.argmax(train_Y, axis=1), target_names = ['flower 1', 'flower 2', 'flower 3']))"
   ]
  },
  {
   "cell_type": "markdown",
   "metadata": {},
   "source": [
    "## Accuracy testing"
   ]
  },
  {
   "cell_type": "code",
   "execution_count": 7,
   "metadata": {},
   "outputs": [
    {
     "name": "stdout",
     "output_type": "stream",
     "text": [
      "             precision    recall  f1-score   support\n",
      "\n",
      "   flower 1       1.00      1.00      1.00        13\n",
      "   flower 2       1.00      1.00      1.00         8\n",
      "   flower 3       1.00      1.00      1.00         9\n",
      "\n",
      "avg / total       1.00      1.00      1.00        30\n",
      "\n"
     ]
    }
   ],
   "source": [
    "predicted= np.argmax(deep_evolution.predict(deep_evolution.get_weight(), test_X, activation_function = activations),axis=1)\n",
    "print(metrics.classification_report(predicted, np.argmax(test_Y, axis=1), target_names = ['flower 1', 'flower 2', 'flower 3']))"
   ]
  },
  {
   "cell_type": "code",
   "execution_count": 12,
   "metadata": {},
   "outputs": [],
   "source": [
    "accuracy_test = np.mean(predicted == np.argmax(test_Y, axis=1))"
   ]
  },
  {
   "cell_type": "code",
   "execution_count": 15,
   "metadata": {},
   "outputs": [
    {
     "data": {
      "image/png": "[encoded data removed]",
      "text/plain": [
       "<matplotlib.figure.Figure at 0x7f9303e13860>"
      ]
     },
     "metadata": {},
     "output_type": "display_data"
    }
   ],
   "source": [
    "\n",
    "plt.figure(figsize=(15,10))\n",
    "x_min, x_max = X[:, 0].min() - .5, X[:, 0].max() + .5\n",
    "y_min, y_max = X[:, 1].min() - .5, X[:, 1].max() + .5\n",
    "h = 0.01\n",
    "xx, yy = np.meshgrid(np.arange(x_min, x_max, h), np.arange(y_min, y_max, h))\n",
    "Z = np.argmax(deep_evolution.predict(deep_evolution.get_weight(), np.c_[xx.ravel(), yy.ravel()], activation_function = activations),axis=1)\n",
    "Z = Z.reshape(xx.shape)\n",
    "plt.contourf(xx, yy, Z, cmap=plt.cm.Spectral)\n",
    "plt.scatter(X[:, 0], X[:, 1], c=Y, cmap=plt.cm.Spectral)\n",
    "plt.title('decision boundary, accuracy validation: %f'%(accuracy_test))\n",
    "plt.show()"
   ]
  },
  {
   "cell_type": "code",
   "execution_count": null,
   "metadata": {},
   "outputs": [],
   "source": []
  }
 ],
 "metadata": {
  "kernelspec": {
   "display_name": "Python 3",
   "language": "python",
   "name": "python3"
  },
  "language_info": {
   "codemirror_mode": {
    "name": "ipython",
    "version": 3
   },
   "file_extension": ".py",
   "mimetype": "text/x-python",
   "name": "python",
   "nbconvert_exporter": "python",
   "pygments_lexer": "ipython3",
   "version": "3.5.2"
  }
 },
 "nbformat": 4,
 "nbformat_minor": 2
}
