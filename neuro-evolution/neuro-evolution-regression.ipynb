{
 "cells": [
  {
   "cell_type": "code",
   "execution_count": 1,
   "metadata": {},
   "outputs": [
    {
     "name": "stderr",
     "output_type": "stream",
     "text": [
      "/usr/local/lib/python3.5/dist-packages/sklearn/cross_validation.py:41: DeprecationWarning: This module was deprecated in version 0.18 in favor of the model_selection module into which all the refactored classes and functions are moved. Also note that the interface of the new CV iterators are different from that of this module. This module will be removed in 0.20.\n",
      "  \"This module will be removed in 0.20.\", DeprecationWarning)\n"
     ]
    },
    {
     "data": {
      "text/html": [
       "<div>\n",
       "<style>\n",
       "    .dataframe thead tr:only-child th {\n",
       "        text-align: right;\n",
       "    }\n",
       "\n",
       "    .dataframe thead th {\n",
       "        text-align: left;\n",
       "    }\n",
       "\n",
       "    .dataframe tbody tr th {\n",
       "        vertical-align: top;\n",
       "    }\n",
       "</style>\n",
       "<table border=\"1\" class=\"dataframe\">\n",
       "  <thead>\n",
       "    <tr style=\"text-align: right;\">\n",
       "      <th></th>\n",
       "      <th>time</th>\n",
       "      <th>temp</th>\n",
       "    </tr>\n",
       "  </thead>\n",
       "  <tbody>\n",
       "    <tr>\n",
       "      <th>0</th>\n",
       "      <td>0.002732</td>\n",
       "      <td>0.1</td>\n",
       "    </tr>\n",
       "    <tr>\n",
       "      <th>1</th>\n",
       "      <td>0.005464</td>\n",
       "      <td>-4.5</td>\n",
       "    </tr>\n",
       "    <tr>\n",
       "      <th>2</th>\n",
       "      <td>0.008197</td>\n",
       "      <td>-6.3</td>\n",
       "    </tr>\n",
       "    <tr>\n",
       "      <th>3</th>\n",
       "      <td>0.010929</td>\n",
       "      <td>-9.6</td>\n",
       "    </tr>\n",
       "    <tr>\n",
       "      <th>4</th>\n",
       "      <td>0.013661</td>\n",
       "      <td>-9.9</td>\n",
       "    </tr>\n",
       "  </tbody>\n",
       "</table>\n",
       "</div>"
      ],
      "text/plain": [
       "       time  temp\n",
       "0  0.002732   0.1\n",
       "1  0.005464  -4.5\n",
       "2  0.008197  -6.3\n",
       "3  0.010929  -9.6\n",
       "4  0.013661  -9.9"
      ]
     },
     "execution_count": 1,
     "metadata": {},
     "output_type": "execute_result"
    }
   ],
   "source": [
    "import numpy as np\n",
    "import pandas as pd\n",
    "import matplotlib.pyplot as plt\n",
    "from sklearn.preprocessing import LabelEncoder\n",
    "from sklearn.cross_validation import train_test_split\n",
    "import seaborn as sns\n",
    "from random import randrange\n",
    "from itertools import combinations_with_replacement\n",
    "sns.set()\n",
    "df = pd.read_csv('TempLinkoping2016.csv')\n",
    "df.head()"
   ]
  },
  {
   "cell_type": "code",
   "execution_count": 2,
   "metadata": {},
   "outputs": [],
   "source": [
    "X = df.iloc[:, 0:1].values\n",
    "Y = df.iloc[:, 1].values\n",
    "n_features = X.shape[1]\n",
    "degree = 15\n",
    "combs = [combinations_with_replacement(range(n_features), i) for i in range(0, degree + 1)]\n",
    "flat_combs = [item for sublist in combs for item in sublist]\n",
    "X_new = np.empty((X.shape[0], len(flat_combs)))\n",
    "for i, index_combs in enumerate(flat_combs):\n",
    "    X_new[:, i] = np.prod(X[:, index_combs], axis=1)\n",
    "X_train, X_test, Y_train, Y_test = train_test_split(X_new, Y, test_size = 0.2)"
   ]
  },
  {
   "cell_type": "code",
   "execution_count": 3,
   "metadata": {},
   "outputs": [],
   "source": [
    "class neuralnetwork:\n",
    "    def __init__(self, id_, hidden_size = 64):\n",
    "        self.W1 = np.random.randn(X_new.shape[1], 1) / np.sqrt(X.shape[1])\n",
    "        self.fitness = 0\n",
    "        self.id = id_\n",
    "\n",
    "def feed_forward(X, nets):\n",
    "    return np.dot(X, nets.W1)"
   ]
  },
  {
   "cell_type": "code",
   "execution_count": 4,
   "metadata": {},
   "outputs": [],
   "source": [
    "class NeuroEvolution:\n",
    "    def __init__(self, population_size, mutation_rate, model_generator):\n",
    "        self.population_size = population_size\n",
    "        self.mutation_rate = mutation_rate\n",
    "        self.model_generator = model_generator\n",
    "        \n",
    "    def _initialize_population(self):\n",
    "        self.population = []\n",
    "        for i in range(self.population_size):\n",
    "            self.population.append(self.model_generator(i))\n",
    "    \n",
    "    def mutate(self, individual, scale=1.0):\n",
    "        mutation_mask = np.random.binomial(1, p=self.mutation_rate, size=individual.W1.shape)\n",
    "        individual.W1 += np.random.normal(loc=0, scale=scale, size=individual.W1.shape) * mutation_mask\n",
    "        return individual\n",
    "    \n",
    "    def inherit_weights(self, parent, child):\n",
    "        child.W1 = parent.W1.copy()\n",
    "        return child\n",
    "    \n",
    "    def crossover(self, parent1, parent2):\n",
    "        child1 = self.model_generator((parent1.id+1)*10)\n",
    "        child1 = self.inherit_weights(parent1, child1)\n",
    "        child2 = self.model_generator((parent2.id+1)*10)\n",
    "        child2 = self.inherit_weights(parent2, child2)\n",
    "        # first W\n",
    "        n_neurons = child1.W1.shape[0]\n",
    "        cutoff = np.random.randint(0, n_neurons)\n",
    "        child1.W1[cutoff:, :] = parent2.W1[cutoff:, :].copy()\n",
    "        child2.W1[cutoff:, :] = parent1.W1[cutoff:, :].copy()\n",
    "        return child1, child2\n",
    "        \n",
    "    def calculate_fitness(self, X, Y):\n",
    "        for i in range(self.population_size):\n",
    "            logits = feed_forward(X, self.population[i])\n",
    "            self.population[i].fitness = np.mean(np.square(Y - logits))\n",
    "        \n",
    "    def evolve(self, X, Y, generations=20, checkpoint= 5):\n",
    "        self._initialize_population()\n",
    "        n_winners = int(self.population_size * 0.4)\n",
    "        n_parents = self.population_size - n_winners\n",
    "        for epoch in range(generations):\n",
    "            self.calculate_fitness(X, Y)\n",
    "            sort_fitness = np.argsort([i.fitness for i in self.population])\n",
    "            self.population = [self.population[i] for i in sort_fitness]\n",
    "            fittest_individual = self.population[0]\n",
    "            if (epoch+1) % checkpoint == 0:\n",
    "                print('epoch %d, fittest individual %d with accuracy %f'%(epoch+1, sort_fitness[0], \n",
    "                                                                          self.population[0].fitness))\n",
    "            next_population = [self.population[i] for i in range(n_winners)]\n",
    "            total_fitness = np.sum([i.fitness for i in self.population])\n",
    "            parent_probabilities = [i.fitness / total_fitness for i in self.population]\n",
    "            parents = np.random.choice(self.population, size=n_parents, p=parent_probabilities, replace=False)\n",
    "            for i in np.arange(0, len(parents), 2):\n",
    "                child1, child2 = self.crossover(parents[i], parents[i+1])\n",
    "                next_population += [self.mutate(child1), self.mutate(child2)]\n",
    "            self.population = next_population\n",
    "        return fittest_individual"
   ]
  },
  {
   "cell_type": "code",
   "execution_count": 6,
   "metadata": {},
   "outputs": [],
   "source": [
    "population_size = 100\n",
    "generations = 1000\n",
    "mutation_rate = 0.1\n",
    "neural_evolve = NeuroEvolution(population_size, mutation_rate, neuralnetwork)"
   ]
  },
  {
   "cell_type": "code",
   "execution_count": 7,
   "metadata": {},
   "outputs": [
    {
     "name": "stdout",
     "output_type": "stream",
     "text": [
      "epoch 100, fittest individual 0 with accuracy 63.516063\n",
      "epoch 200, fittest individual 0 with accuracy 63.516037\n",
      "epoch 300, fittest individual 0 with accuracy 63.515969\n",
      "epoch 400, fittest individual 0 with accuracy 63.515947\n",
      "epoch 500, fittest individual 0 with accuracy 63.515944\n",
      "epoch 600, fittest individual 0 with accuracy 63.515944\n",
      "epoch 700, fittest individual 0 with accuracy 63.515944\n",
      "epoch 800, fittest individual 0 with accuracy 63.515944\n",
      "epoch 900, fittest individual 0 with accuracy 63.515944\n",
      "epoch 1000, fittest individual 0 with accuracy 63.515939\n"
     ]
    }
   ],
   "source": [
    "fittest_nets = neural_evolve.evolve(X_train, Y_train, generations, 100)"
   ]
  },
  {
   "cell_type": "code",
   "execution_count": 8,
   "metadata": {},
   "outputs": [
    {
     "data": {
      "image/png": "[encoded data removed]",
      "text/plain": [
       "<matplotlib.figure.Figure at 0x7f8e9bada3c8>"
      ]
     },
     "metadata": {},
     "output_type": "display_data"
    }
   ],
   "source": [
    "plt.figure(figsize=(15, 10))\n",
    "plt.scatter(X[:,0],Y)\n",
    "plt.plot(X,feed_forward(X_new,fittest_nets), c='red')\n",
    "plt.show()"
   ]
  },
  {
   "cell_type": "code",
   "execution_count": null,
   "metadata": {},
   "outputs": [],
   "source": []
  }
 ],
 "metadata": {
  "kernelspec": {
   "display_name": "Python 3",
   "language": "python",
   "name": "python3"
  },
  "language_info": {
   "codemirror_mode": {
    "name": "ipython",
    "version": 3
   },
   "file_extension": ".py",
   "mimetype": "text/x-python",
   "name": "python",
   "nbconvert_exporter": "python",
   "pygments_lexer": "ipython3",
   "version": "3.5.2"
  }
 },
 "nbformat": 4,
 "nbformat_minor": 2
}
