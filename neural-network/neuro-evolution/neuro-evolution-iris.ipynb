{
 "cells": [
  {
   "cell_type": "code",
   "execution_count": 1,
   "metadata": {},
   "outputs": [
    {
     "name": "stderr",
     "output_type": "stream",
     "text": [
      "/usr/local/lib/python3.5/dist-packages/sklearn/cross_validation.py:41: DeprecationWarning: This module was deprecated in version 0.18 in favor of the model_selection module into which all the refactored classes and functions are moved. Also note that the interface of the new CV iterators are different from that of this module. This module will be removed in 0.20.\n",
      "  \"This module will be removed in 0.20.\", DeprecationWarning)\n"
     ]
    }
   ],
   "source": [
    "import numpy as np\n",
    "import time\n",
    "import pandas as pd\n",
    "from sklearn.decomposition import PCA\n",
    "from sklearn.preprocessing import MinMaxScaler\n",
    "from sklearn.preprocessing import LabelEncoder\n",
    "from sklearn.cross_validation import train_test_split\n",
    "from matplotlib import animation\n",
    "import matplotlib.pyplot as plt\n",
    "from IPython.display import HTML\n",
    "import seaborn as sns\n",
    "sns.set()"
   ]
  },
  {
   "cell_type": "code",
   "execution_count": 2,
   "metadata": {},
   "outputs": [
    {
     "data": {
      "text/html": [
       "<div>\n",
       "<style>\n",
       "    .dataframe thead tr:only-child th {\n",
       "        text-align: right;\n",
       "    }\n",
       "\n",
       "    .dataframe thead th {\n",
       "        text-align: left;\n",
       "    }\n",
       "\n",
       "    .dataframe tbody tr th {\n",
       "        vertical-align: top;\n",
       "    }\n",
       "</style>\n",
       "<table border=\"1\" class=\"dataframe\">\n",
       "  <thead>\n",
       "    <tr style=\"text-align: right;\">\n",
       "      <th></th>\n",
       "      <th>Id</th>\n",
       "      <th>SepalLengthCm</th>\n",
       "      <th>SepalWidthCm</th>\n",
       "      <th>PetalLengthCm</th>\n",
       "      <th>PetalWidthCm</th>\n",
       "      <th>Species</th>\n",
       "    </tr>\n",
       "  </thead>\n",
       "  <tbody>\n",
       "    <tr>\n",
       "      <th>0</th>\n",
       "      <td>1</td>\n",
       "      <td>5.1</td>\n",
       "      <td>3.5</td>\n",
       "      <td>1.4</td>\n",
       "      <td>0.2</td>\n",
       "      <td>Iris-setosa</td>\n",
       "    </tr>\n",
       "    <tr>\n",
       "      <th>1</th>\n",
       "      <td>2</td>\n",
       "      <td>4.9</td>\n",
       "      <td>3.0</td>\n",
       "      <td>1.4</td>\n",
       "      <td>0.2</td>\n",
       "      <td>Iris-setosa</td>\n",
       "    </tr>\n",
       "    <tr>\n",
       "      <th>2</th>\n",
       "      <td>3</td>\n",
       "      <td>4.7</td>\n",
       "      <td>3.2</td>\n",
       "      <td>1.3</td>\n",
       "      <td>0.2</td>\n",
       "      <td>Iris-setosa</td>\n",
       "    </tr>\n",
       "    <tr>\n",
       "      <th>3</th>\n",
       "      <td>4</td>\n",
       "      <td>4.6</td>\n",
       "      <td>3.1</td>\n",
       "      <td>1.5</td>\n",
       "      <td>0.2</td>\n",
       "      <td>Iris-setosa</td>\n",
       "    </tr>\n",
       "    <tr>\n",
       "      <th>4</th>\n",
       "      <td>5</td>\n",
       "      <td>5.0</td>\n",
       "      <td>3.6</td>\n",
       "      <td>1.4</td>\n",
       "      <td>0.2</td>\n",
       "      <td>Iris-setosa</td>\n",
       "    </tr>\n",
       "  </tbody>\n",
       "</table>\n",
       "</div>"
      ],
      "text/plain": [
       "   Id  SepalLengthCm  SepalWidthCm  PetalLengthCm  PetalWidthCm      Species\n",
       "0   1            5.1           3.5            1.4           0.2  Iris-setosa\n",
       "1   2            4.9           3.0            1.4           0.2  Iris-setosa\n",
       "2   3            4.7           3.2            1.3           0.2  Iris-setosa\n",
       "3   4            4.6           3.1            1.5           0.2  Iris-setosa\n",
       "4   5            5.0           3.6            1.4           0.2  Iris-setosa"
      ]
     },
     "execution_count": 2,
     "metadata": {},
     "output_type": "execute_result"
    }
   ],
   "source": [
    "df = pd.read_csv('Iris.csv')\n",
    "df.head()"
   ]
  },
  {
   "cell_type": "code",
   "execution_count": 3,
   "metadata": {},
   "outputs": [],
   "source": [
    "X = PCA(n_components=2).fit_transform(MinMaxScaler().fit_transform(df.iloc[:, 1:-1]))\n",
    "Y = LabelEncoder().fit_transform(df.iloc[:, -1])\n",
    "X_train, X_test, Y_train, Y_test = train_test_split(X, Y, test_size = 0.2)"
   ]
  },
  {
   "cell_type": "code",
   "execution_count": 4,
   "metadata": {},
   "outputs": [],
   "source": [
    "class neuralnetwork:\n",
    "    def __init__(self, id_, hidden_size = 64):\n",
    "        self.W1 = np.random.randn(X.shape[1], hidden_size) / np.sqrt(X.shape[1])\n",
    "        self.W2 = np.random.randn(hidden_size, hidden_size) / np.sqrt(hidden_size)\n",
    "        self.W3 = np.random.randn(hidden_size, 3) / np.sqrt(hidden_size)\n",
    "        self.fitness = 0\n",
    "        self.id = id_\n",
    "\n",
    "def sigmoid(X):\n",
    "    return 1 / (1 + np.exp(-X))\n",
    "    \n",
    "def softmax(X):\n",
    "    e_x = np.exp(X - np.max(X, axis=-1, keepdims=True))\n",
    "    return e_x / np.sum(e_x, axis=-1, keepdims=True)\n",
    "\n",
    "def feed_forward(X, nets):\n",
    "    a1 = np.dot(X, nets.W1)\n",
    "    z1 = sigmoid(a1)\n",
    "    a2 = np.dot(z1, nets.W2)\n",
    "    z2 = sigmoid(a2)\n",
    "    a3 = np.dot(z2, nets.W3)\n",
    "    return softmax(a3)"
   ]
  },
  {
   "cell_type": "code",
   "execution_count": 5,
   "metadata": {},
   "outputs": [],
   "source": [
    "class NeuroEvolution:\n",
    "    def __init__(self, population_size, mutation_rate, model_generator):\n",
    "        self.population_size = population_size\n",
    "        self.mutation_rate = mutation_rate\n",
    "        self.model_generator = model_generator\n",
    "        \n",
    "    def _initialize_population(self):\n",
    "        self.population = []\n",
    "        for i in range(self.population_size):\n",
    "            self.population.append(self.model_generator(i))\n",
    "    \n",
    "    def mutate(self, individual, scale=1.0):\n",
    "        mutation_mask = np.random.binomial(1, p=self.mutation_rate, size=individual.W1.shape)\n",
    "        individual.W1 += np.random.normal(loc=0, scale=scale, size=individual.W1.shape) * mutation_mask\n",
    "        mutation_mask = np.random.binomial(1, p=self.mutation_rate, size=individual.W2.shape)\n",
    "        individual.W2 += np.random.normal(loc=0, scale=scale, size=individual.W2.shape) * mutation_mask\n",
    "        mutation_mask = np.random.binomial(1, p=self.mutation_rate, size=individual.W3.shape)\n",
    "        individual.W3 += np.random.normal(loc=0, scale=scale, size=individual.W3.shape) * mutation_mask\n",
    "        return individual\n",
    "    \n",
    "    def inherit_weights(self, parent, child):\n",
    "        child.W1 = parent.W1.copy()\n",
    "        child.W2 = parent.W2.copy()\n",
    "        child.W3 = parent.W3.copy()\n",
    "        return child\n",
    "    \n",
    "    def crossover(self, parent1, parent2):\n",
    "        child1 = self.model_generator((parent1.id+1)*10)\n",
    "        child1 = self.inherit_weights(parent1, child1)\n",
    "        child2 = self.model_generator((parent2.id+1)*10)\n",
    "        child2 = self.inherit_weights(parent2, child2)\n",
    "        # first W\n",
    "        n_neurons = child1.W1.shape[1]\n",
    "        cutoff = np.random.randint(0, n_neurons)\n",
    "        child1.W1[:, cutoff:] = parent2.W1[:, cutoff:].copy()\n",
    "        child2.W1[:, cutoff:] = parent1.W1[:, cutoff:].copy()\n",
    "        # second W\n",
    "        n_neurons = child1.W2.shape[1]\n",
    "        cutoff = np.random.randint(0, n_neurons)\n",
    "        child1.W2[:, cutoff:] = parent2.W2[:, cutoff:].copy()\n",
    "        child2.W2[:, cutoff:] = parent1.W2[:, cutoff:].copy()\n",
    "        # third W\n",
    "        n_neurons = child1.W3.shape[1]\n",
    "        cutoff = np.random.randint(0, n_neurons)\n",
    "        child1.W3[:, cutoff:] = parent2.W3[:, cutoff:].copy()\n",
    "        child2.W3[:, cutoff:] = parent1.W3[:, cutoff:].copy()\n",
    "        return child1, child2\n",
    "        \n",
    "    def calculate_fitness(self, X, Y):\n",
    "        for i in range(self.population_size):\n",
    "            logits = feed_forward(X, self.population[i])\n",
    "            self.population[i].fitness = np.mean(np.argmax(logits,axis=1) == Y)\n",
    "        \n",
    "    def evolve(self, X, Y, generations=20, checkpoint= 5):\n",
    "        self._initialize_population()\n",
    "        n_winners = int(self.population_size * 0.4)\n",
    "        n_parents = self.population_size - n_winners\n",
    "        for epoch in range(generations):\n",
    "            self.calculate_fitness(X, Y)\n",
    "            sort_fitness = np.argsort([i.fitness for i in self.population])[::-1]\n",
    "            self.population = [self.population[i] for i in sort_fitness]\n",
    "            fittest_individual = self.population[0]\n",
    "            if (epoch+1) % checkpoint == 0:\n",
    "                print('epoch %d, fittest individual %d with accuracy %f'%(epoch+1, sort_fitness[0], \n",
    "                                                                          self.population[0].fitness))\n",
    "            next_population = [self.population[i] for i in range(n_winners)]\n",
    "            total_fitness = np.sum([i.fitness for i in self.population])\n",
    "            parent_probabilities = [i.fitness / total_fitness for i in self.population]\n",
    "            parents = np.random.choice(self.population, size=n_parents, p=parent_probabilities, replace=False)\n",
    "            for i in np.arange(0, len(parents), 2):\n",
    "                child1, child2 = self.crossover(parents[i], parents[i+1])\n",
    "                next_population += [self.mutate(child1), self.mutate(child2)]\n",
    "            self.population = next_population\n",
    "        return fittest_individual"
   ]
  },
  {
   "cell_type": "code",
   "execution_count": 6,
   "metadata": {},
   "outputs": [],
   "source": [
    "population_size = 100\n",
    "generations = 100\n",
    "mutation_rate = 0.1\n",
    "neural_evolve = NeuroEvolution(population_size, mutation_rate, neuralnetwork)"
   ]
  },
  {
   "cell_type": "code",
   "execution_count": 7,
   "metadata": {},
   "outputs": [
    {
     "name": "stdout",
     "output_type": "stream",
     "text": [
      "epoch 5, fittest individual 86 with accuracy 0.666667\n",
      "epoch 10, fittest individual 0 with accuracy 0.666667\n",
      "epoch 15, fittest individual 0 with accuracy 0.675000\n",
      "epoch 20, fittest individual 0 with accuracy 0.675000\n",
      "epoch 25, fittest individual 0 with accuracy 0.725000\n",
      "epoch 30, fittest individual 0 with accuracy 0.725000\n",
      "epoch 35, fittest individual 0 with accuracy 0.725000\n",
      "epoch 40, fittest individual 0 with accuracy 0.725000\n",
      "epoch 45, fittest individual 0 with accuracy 0.725000\n",
      "epoch 50, fittest individual 0 with accuracy 0.725000\n",
      "epoch 55, fittest individual 0 with accuracy 0.725000\n",
      "epoch 60, fittest individual 0 with accuracy 0.725000\n",
      "epoch 65, fittest individual 0 with accuracy 0.866667\n",
      "epoch 70, fittest individual 0 with accuracy 0.866667\n",
      "epoch 75, fittest individual 0 with accuracy 0.866667\n",
      "epoch 80, fittest individual 0 with accuracy 0.866667\n",
      "epoch 85, fittest individual 0 with accuracy 0.866667\n",
      "epoch 90, fittest individual 0 with accuracy 0.866667\n",
      "epoch 95, fittest individual 0 with accuracy 0.866667\n",
      "epoch 100, fittest individual 0 with accuracy 0.866667\n"
     ]
    }
   ],
   "source": [
    "fittest_nets = neural_evolve.evolve(X_train, Y_train, generations)"
   ]
  },
  {
   "cell_type": "code",
   "execution_count": 10,
   "metadata": {},
   "outputs": [],
   "source": [
    "test_accuracy = np.mean(np.argmax(feed_forward(X_test, fittest_nets),axis=1) == Y_test)"
   ]
  },
  {
   "cell_type": "code",
   "execution_count": 11,
   "metadata": {},
   "outputs": [
    {
     "data": {
      "image/png": "[encoded data removed]",
      "text/plain": [
       "<matplotlib.figure.Figure at 0x7fd911fcf7b8>"
      ]
     },
     "metadata": {},
     "output_type": "display_data"
    }
   ],
   "source": [
    "fig = plt.figure(figsize=(15,10))\n",
    "x_min, x_max = X[:, 0].min() - .5, X[:, 0].max() + .5\n",
    "y_min, y_max = X[:, 1].min() - .5, X[:, 1].max() + .5\n",
    "h = 0.01\n",
    "xx, yy = np.meshgrid(np.arange(x_min, x_max, h), np.arange(y_min, y_max, h))\n",
    "grid = np.c_[xx.ravel(), yy.ravel()]\n",
    "Z = np.argmax(feed_forward(grid, fittest_nets),axis=1)\n",
    "Z = Z.reshape(xx.shape)\n",
    "plt.contourf(xx, yy, Z, cmap=plt.cm.Spectral, alpha = 0.5)\n",
    "plt.scatter(X[:, 0], X[:, 1], c=Y, cmap=plt.cm.Spectral)\n",
    "plt.title('NeuroEvolution decision boundary, accuracy: %f'%(test_accuracy))\n",
    "plt.show()"
   ]
  },
  {
   "cell_type": "code",
   "execution_count": null,
   "metadata": {},
   "outputs": [],
   "source": []
  }
 ],
 "metadata": {
  "kernelspec": {
   "display_name": "Python 3",
   "language": "python",
   "name": "python3"
  },
  "language_info": {
   "codemirror_mode": {
    "name": "ipython",
    "version": 3
   },
   "file_extension": ".py",
   "mimetype": "text/x-python",
   "name": "python",
   "nbconvert_exporter": "python",
   "pygments_lexer": "ipython3",
   "version": "3.5.2"
  }
 },
 "nbformat": 4,
 "nbformat_minor": 2
}
