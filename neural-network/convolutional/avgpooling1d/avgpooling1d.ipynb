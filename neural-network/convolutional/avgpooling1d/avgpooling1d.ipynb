{
 "cells": [
  {
   "cell_type": "code",
   "execution_count": 1,
   "metadata": {},
   "outputs": [],
   "source": [
    "import numpy as np"
   ]
  },
  {
   "cell_type": "code",
   "execution_count": 2,
   "metadata": {},
   "outputs": [],
   "source": [
    "nf = 3  # number of filters\n",
    "rf = 3  # filter size\n",
    "stride = 2\n",
    "x = np.random.randn(1, 7, 3)\n",
    "out = np.zeros((1, 3, nf))"
   ]
  },
  {
   "cell_type": "code",
   "execution_count": 3,
   "metadata": {},
   "outputs": [],
   "source": [
    "for k in range(x.shape[0]):\n",
    "    for z in range(nf):\n",
    "        h_range = int((x.shape[1] - rf) / stride) + 1\n",
    "        for _h in range(h_range):\n",
    "            out[k, _h, z] = np.mean(x[k, _h * stride:_h * stride + rf, :])"
   ]
  },
  {
   "cell_type": "code",
   "execution_count": 4,
   "metadata": {},
   "outputs": [],
   "source": [
    "# we assumed de = out\n",
    "dx = np.zeros((x.shape))"
   ]
  },
  {
   "cell_type": "code",
   "execution_count": 5,
   "metadata": {},
   "outputs": [],
   "source": [
    "for k in range(x.shape[0]):\n",
    "    for z in range(nf):\n",
    "        h_range = int((x.shape[1] - rf) / stride) + 1\n",
    "        for _h in range(h_range):\n",
    "            dx[k, _h * stride:_h * stride + rf, :] = out[k, _h, z]"
   ]
  },
  {
   "cell_type": "code",
   "execution_count": 6,
   "metadata": {},
   "outputs": [
    {
     "data": {
      "text/plain": [
       "array([[[ 0.20745764,  0.20745764,  0.20745764],\n",
       "        [ 0.20745764,  0.20745764,  0.20745764],\n",
       "        [ 0.02002697,  0.02002697,  0.02002697],\n",
       "        [ 0.02002697,  0.02002697,  0.02002697],\n",
       "        [-0.5881302 , -0.5881302 , -0.5881302 ],\n",
       "        [-0.5881302 , -0.5881302 , -0.5881302 ],\n",
       "        [-0.5881302 , -0.5881302 , -0.5881302 ]]])"
      ]
     },
     "execution_count": 6,
     "metadata": {},
     "output_type": "execute_result"
    }
   ],
   "source": [
    "dx"
   ]
  },
  {
   "cell_type": "code",
   "execution_count": 7,
   "metadata": {},
   "outputs": [
    {
     "data": {
      "text/plain": [
       "(1, 7, 3)"
      ]
     },
     "execution_count": 7,
     "metadata": {},
     "output_type": "execute_result"
    }
   ],
   "source": [
    "dx.shape"
   ]
  },
  {
   "cell_type": "code",
   "execution_count": null,
   "metadata": {},
   "outputs": [],
   "source": []
  }
 ],
 "metadata": {
  "kernelspec": {
   "display_name": "Python 3",
   "language": "python",
   "name": "python3"
  },
  "language_info": {
   "codemirror_mode": {
    "name": "ipython",
    "version": 3
   },
   "file_extension": ".py",
   "mimetype": "text/x-python",
   "name": "python",
   "nbconvert_exporter": "python",
   "pygments_lexer": "ipython3",
   "version": "3.5.2"
  }
 },
 "nbformat": 4,
 "nbformat_minor": 2
}
