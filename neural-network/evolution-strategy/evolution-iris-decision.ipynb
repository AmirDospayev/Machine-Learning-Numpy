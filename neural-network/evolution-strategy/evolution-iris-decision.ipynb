{
 "cells": [
  {
   "cell_type": "code",
   "execution_count": 1,
   "metadata": {},
   "outputs": [
    {
     "name": "stderr",
     "output_type": "stream",
     "text": [
      "/usr/local/lib/python3.5/dist-packages/sklearn/cross_validation.py:41: DeprecationWarning: This module was deprecated in version 0.18 in favor of the model_selection module into which all the refactored classes and functions are moved. Also note that the interface of the new CV iterators are different from that of this module. This module will be removed in 0.20.\n",
      "  \"This module will be removed in 0.20.\", DeprecationWarning)\n"
     ]
    }
   ],
   "source": [
    "import numpy as np\n",
    "import time\n",
    "from function import *\n",
    "import pandas as pd\n",
    "from sklearn.decomposition import PCA\n",
    "from sklearn.preprocessing import MinMaxScaler\n",
    "from sklearn.preprocessing import LabelEncoder\n",
    "from sklearn.cross_validation import train_test_split\n",
    "from sklearn import metrics\n",
    "from matplotlib import animation\n",
    "import matplotlib.pyplot as plt\n",
    "from IPython.display import HTML\n",
    "import seaborn as sns\n",
    "sns.set()"
   ]
  },
  {
   "cell_type": "code",
   "execution_count": 2,
   "metadata": {},
   "outputs": [
    {
     "data": {
      "text/html": [
       "<div>\n",
       "<style>\n",
       "    .dataframe thead tr:only-child th {\n",
       "        text-align: right;\n",
       "    }\n",
       "\n",
       "    .dataframe thead th {\n",
       "        text-align: left;\n",
       "    }\n",
       "\n",
       "    .dataframe tbody tr th {\n",
       "        vertical-align: top;\n",
       "    }\n",
       "</style>\n",
       "<table border=\"1\" class=\"dataframe\">\n",
       "  <thead>\n",
       "    <tr style=\"text-align: right;\">\n",
       "      <th></th>\n",
       "      <th>Id</th>\n",
       "      <th>SepalLengthCm</th>\n",
       "      <th>SepalWidthCm</th>\n",
       "      <th>PetalLengthCm</th>\n",
       "      <th>PetalWidthCm</th>\n",
       "      <th>Species</th>\n",
       "    </tr>\n",
       "  </thead>\n",
       "  <tbody>\n",
       "    <tr>\n",
       "      <th>0</th>\n",
       "      <td>1</td>\n",
       "      <td>5.1</td>\n",
       "      <td>3.5</td>\n",
       "      <td>1.4</td>\n",
       "      <td>0.2</td>\n",
       "      <td>Iris-setosa</td>\n",
       "    </tr>\n",
       "    <tr>\n",
       "      <th>1</th>\n",
       "      <td>2</td>\n",
       "      <td>4.9</td>\n",
       "      <td>3.0</td>\n",
       "      <td>1.4</td>\n",
       "      <td>0.2</td>\n",
       "      <td>Iris-setosa</td>\n",
       "    </tr>\n",
       "    <tr>\n",
       "      <th>2</th>\n",
       "      <td>3</td>\n",
       "      <td>4.7</td>\n",
       "      <td>3.2</td>\n",
       "      <td>1.3</td>\n",
       "      <td>0.2</td>\n",
       "      <td>Iris-setosa</td>\n",
       "    </tr>\n",
       "    <tr>\n",
       "      <th>3</th>\n",
       "      <td>4</td>\n",
       "      <td>4.6</td>\n",
       "      <td>3.1</td>\n",
       "      <td>1.5</td>\n",
       "      <td>0.2</td>\n",
       "      <td>Iris-setosa</td>\n",
       "    </tr>\n",
       "    <tr>\n",
       "      <th>4</th>\n",
       "      <td>5</td>\n",
       "      <td>5.0</td>\n",
       "      <td>3.6</td>\n",
       "      <td>1.4</td>\n",
       "      <td>0.2</td>\n",
       "      <td>Iris-setosa</td>\n",
       "    </tr>\n",
       "  </tbody>\n",
       "</table>\n",
       "</div>"
      ],
      "text/plain": [
       "   Id  SepalLengthCm  SepalWidthCm  PetalLengthCm  PetalWidthCm      Species\n",
       "0   1            5.1           3.5            1.4           0.2  Iris-setosa\n",
       "1   2            4.9           3.0            1.4           0.2  Iris-setosa\n",
       "2   3            4.7           3.2            1.3           0.2  Iris-setosa\n",
       "3   4            4.6           3.1            1.5           0.2  Iris-setosa\n",
       "4   5            5.0           3.6            1.4           0.2  Iris-setosa"
      ]
     },
     "execution_count": 2,
     "metadata": {},
     "output_type": "execute_result"
    }
   ],
   "source": [
    "df = pd.read_csv('Iris.csv')\n",
    "df.head()"
   ]
  },
  {
   "cell_type": "code",
   "execution_count": 3,
   "metadata": {},
   "outputs": [],
   "source": [
    "X = PCA(n_components=2).fit_transform(MinMaxScaler().fit_transform(df.iloc[:, 1:-1]))\n",
    "Y = LabelEncoder().fit_transform(df.iloc[:, -1])\n",
    "one_hot = np.zeros((Y.shape[0], 3))\n",
    "for i in range(Y.shape[0]):\n",
    "    one_hot[i, Y[i]] = 1.0"
   ]
  },
  {
   "cell_type": "code",
   "execution_count": 4,
   "metadata": {},
   "outputs": [],
   "source": [
    "class Deep_Evolution_Strategy:\n",
    "    \n",
    "    def __init__(self, weights, inputs, solutions, reward_function, population_size, sigma, learning_rate):\n",
    "        self.weights = weights\n",
    "        self.inputs = inputs\n",
    "        self.solutions = solutions\n",
    "        self.reward_function = reward_function\n",
    "        self.population_size = population_size\n",
    "        self.sigma = sigma\n",
    "        self.learning_rate = learning_rate\n",
    "        \n",
    "    def _get_weight_from_population(self, population):\n",
    "        weights_population = []\n",
    "        for index, i in enumerate(population):\n",
    "            jittered = self.sigma * i\n",
    "            weights_population.append(self.weights[index] + jittered)\n",
    "        return weights_population\n",
    "    \n",
    "    def get_weight(self):\n",
    "        return self.weights\n",
    "    \n",
    "    def predict(self, weights, inputs, activation_function = None):\n",
    "        if activation_function[0]:\n",
    "            w = activation_function[0](inputs * weights[0])\n",
    "        else:\n",
    "            w = inputs * weights[0]\n",
    "        for n in range(1, len(weights)):\n",
    "            if activation_function[n]:\n",
    "                w = activation_function[n](np.dot(w, weights[n]))\n",
    "            else:\n",
    "                w = np.dot(w, weights[n])\n",
    "        return w\n",
    "    \n",
    "    def train(self, epoch):\n",
    "        population = []\n",
    "        rewards = np.zeros(self.population_size)\n",
    "        for k in range(self.population_size):\n",
    "            x = []\n",
    "            for w in self.weights:\n",
    "                x.append(np.random.randn(*w.shape))\n",
    "            population.append(x)\n",
    "        for k in range(self.population_size):\n",
    "            weights_population = self._get_weight_from_population(population[k])\n",
    "            w = self.predict(weights_population, self.inputs, activation_function = activations)\n",
    "            rewards[k] = self.reward_function(self.solutions, w)\n",
    "        rewards = (rewards - np.mean(rewards)) / np.std(rewards)\n",
    "        for index, w in enumerate(self.weights):\n",
    "            A = np.array([p[index] for p in population])\n",
    "            self.weights[index] = w + self.learning_rate/(self.population_size * self.sigma) * np.dot(A.T, rewards).T\n",
    "        predicted= np.argmax(self.predict(self.weights, X, activation_function = activations),axis=1)\n",
    "        accuracy = np.mean(Y == predicted)\n",
    "        Z = np.argmax(self.predict(self.weights, np.c_[xx.ravel(), yy.ravel()], activation_function = activations),axis=1)\n",
    "        Z = Z.reshape(xx.shape)\n",
    "        plt.contourf(xx, yy, Z, cmap=plt.cm.Spectral)\n",
    "        plt.scatter(X[:, 0], X[:, 1], c=Y, cmap=plt.cm.Spectral)\n",
    "        cont = plt.title('Evolution Strategies decision boundary, epoch %d, accuracy validation: %f'%(epoch+1, accuracy))\n",
    "        return cont"
   ]
  },
  {
   "cell_type": "code",
   "execution_count": 5,
   "metadata": {},
   "outputs": [],
   "source": [
    "size_population = 50\n",
    "sigma = 0.1\n",
    "learning_rate = 0.005\n",
    "epoch = 100\n",
    "\n",
    "weights = [np.random.randn(X.shape[1]),\n",
    "           np.random.randn(X.shape[1],20),\n",
    "           np.random.randn(20,one_hot.shape[1])]\n",
    "activations = [sigmoid, sigmoid, softmax]\n",
    "deep_evolution = Deep_Evolution_Strategy(weights, X, one_hot, cross_entropy, \n",
    "                                         size_population, sigma, learning_rate)"
   ]
  },
  {
   "cell_type": "code",
   "execution_count": 6,
   "metadata": {},
   "outputs": [
    {
     "data": {
      "image/png": "[encoded data removed]",
      "text/plain": [
       "<matplotlib.figure.Figure at 0x7f1bf7068940>"
      ]
     },
     "metadata": {},
     "output_type": "display_data"
    }
   ],
   "source": [
    "fig = plt.figure(figsize=(15,10))\n",
    "x_min, x_max = X[:, 0].min() - .5, X[:, 0].max() + .5\n",
    "y_min, y_max = X[:, 1].min() - .5, X[:, 1].max() + .5\n",
    "h = 0.01\n",
    "xx, yy = np.meshgrid(np.arange(x_min, x_max, h), np.arange(y_min, y_max, h))\n",
    "Z = np.argmax(deep_evolution.predict(deep_evolution.get_weight(), np.c_[xx.ravel(), yy.ravel()], activation_function = activations),axis=1)\n",
    "Z = Z.reshape(xx.shape)\n",
    "plt.contourf(xx, yy, Z, cmap=plt.cm.Spectral)\n",
    "plt.scatter(X[:, 0], X[:, 1], c=Y, cmap=plt.cm.Spectral)\n",
    "predicted= np.argmax(deep_evolution.predict(deep_evolution.get_weight(), X, activation_function = activations),axis=1)\n",
    "accuracy = np.mean(Y == predicted)\n",
    "plt.title('Evolution Strategies decision boundary, epoch %d, accuracy: %f'%(0, accuracy))\n",
    "anim = animation.FuncAnimation(fig, deep_evolution.train, frames=100, interval=200)\n",
    "anim.save('animation-evolution-iris.gif', writer='imagemagick', fps=5)\n",
    "#HTML(anim.to_html5_video())"
   ]
  }
 ],
 "metadata": {
  "kernelspec": {
   "display_name": "Python 3",
   "language": "python",
   "name": "python3"
  },
  "language_info": {
   "codemirror_mode": {
    "name": "ipython",
    "version": 3
   },
   "file_extension": ".py",
   "mimetype": "text/x-python",
   "name": "python",
   "nbconvert_exporter": "python",
   "pygments_lexer": "ipython3",
   "version": "3.5.2"
  }
 },
 "nbformat": 4,
 "nbformat_minor": 2
}
