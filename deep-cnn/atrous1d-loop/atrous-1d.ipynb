{
 "cells": [
  {
   "cell_type": "markdown",
   "metadata": {},
   "source": [
    "What is atrous convolution? atrous is a french word, means hole.\n",
    "\n",
    "![alt text](http://liangchiehchen.com/fig/deeplab_aspp.jpg)"
   ]
  },
  {
   "cell_type": "code",
   "execution_count": 6,
   "metadata": {},
   "outputs": [],
   "source": [
    "import numpy as np"
   ]
  },
  {
   "cell_type": "code",
   "execution_count": 7,
   "metadata": {},
   "outputs": [
    {
     "data": {
      "text/plain": [
       "array([ 0.,  0.,  0.])"
      ]
     },
     "execution_count": 7,
     "metadata": {},
     "output_type": "execute_result"
    }
   ],
   "source": [
    "x = np.zeros((3))\n",
    "rate = 2\n",
    "x"
   ]
  },
  {
   "cell_type": "code",
   "execution_count": 8,
   "metadata": {},
   "outputs": [
    {
     "data": {
      "text/plain": [
       "array([ 1.,  1.,  1.,  1.,  1.])"
      ]
     },
     "execution_count": 8,
     "metadata": {},
     "output_type": "execute_result"
    }
   ],
   "source": [
    "atrous = np.ones(np.array(x.shape) + rate)\n",
    "atrous"
   ]
  },
  {
   "cell_type": "code",
   "execution_count": 9,
   "metadata": {},
   "outputs": [
    {
     "data": {
      "text/plain": [
       "array([ 0.,  1.,  0.,  1.,  0.])"
      ]
     },
     "execution_count": 9,
     "metadata": {},
     "output_type": "execute_result"
    }
   ],
   "source": [
    "for i in range(0, atrous.shape[0], rate //2+1):\n",
    "    atrous[i] = atrous[i] * x[int(i/rate/2)+1]\n",
    "atrous"
   ]
  },
  {
   "cell_type": "code",
   "execution_count": 10,
   "metadata": {},
   "outputs": [],
   "source": [
    "x = np.random.rand(1,7,3)\n",
    "kernel = np.random.rand(3,3,7)\n",
    "filter_size = kernel.shape[0]\n",
    "stride = 2\n",
    "rate = 2"
   ]
  },
  {
   "cell_type": "code",
   "execution_count": 11,
   "metadata": {},
   "outputs": [],
   "source": [
    "def padding(x, filter_size, pad='SAME'):\n",
    "    if pad == 'SAME':\n",
    "        pad_h_min = int(np.floor((filter_size - 1)/2))\n",
    "        pad_h_max = int(np.ceil((filter_size - 1)/2))\n",
    "        pad_h = (pad_h_min, pad_h_max)\n",
    "        return np.pad(x, ((0, 0), pad_h, (0, 0)), mode='constant')\n",
    "    else:\n",
    "        return x\n",
    "    \n",
    "def get_shape(x):\n",
    "    output_height = int(np.ceil((x.shape[1] - rate * (filter_size-1)) / stride) + 1)\n",
    "    return int(output_height)"
   ]
  },
  {
   "cell_type": "code",
   "execution_count": 12,
   "metadata": {},
   "outputs": [
    {
     "data": {
      "text/plain": [
       "(1, 4, 7)"
      ]
     },
     "execution_count": 12,
     "metadata": {},
     "output_type": "execute_result"
    }
   ],
   "source": [
    "x_padded = padding(x, filter_size)\n",
    "h = get_shape(x_padded)\n",
    "out_atrous = np.zeros((1, h, kernel.shape[2]))\n",
    "out_atrous.shape"
   ]
  },
  {
   "cell_type": "code",
   "execution_count": 15,
   "metadata": {},
   "outputs": [],
   "source": [
    "def atrous(x, w):\n",
    "    for i in range(0, x.shape[0], rate //2+1):\n",
    "        x[i,:] = x[i,:] * w[int(i/rate/2)+1,:]\n",
    "    return x\n",
    "\n",
    "def conv(x, w, out):\n",
    "    for k in range(x.shape[0]):\n",
    "        for z in range(w.shape[2]):\n",
    "            h_range = int(np.ceil((x.shape[1] - rate * (filter_size-1)) / stride) + 1)\n",
    "            for _h in range(h_range):\n",
    "                atroused = atrous(x[k, _h * stride:_h * stride + filter_size + rate, :], w[:, :, z])\n",
    "                out[k, _h, z] = np.sum(atroused)\n",
    "    return out"
   ]
  },
  {
   "cell_type": "code",
   "execution_count": 17,
   "metadata": {},
   "outputs": [
    {
     "data": {
      "text/plain": [
       "(1, 4, 7)"
      ]
     },
     "execution_count": 17,
     "metadata": {},
     "output_type": "execute_result"
    }
   ],
   "source": [
    "out_atrous = conv(x_padded, kernel, out_atrous)\n",
    "out_atrous.shape"
   ]
  },
  {
   "cell_type": "code",
   "execution_count": 18,
   "metadata": {},
   "outputs": [],
   "source": [
    "def deatrous_w(x, w, de):\n",
    "    for i in range(0, x.shape[0], rate //2+1):\n",
    "        w[int(i/rate/2)+1,:] = np.sum(x[i,:] * de[i,:])\n",
    "    return w\n",
    "\n",
    "def deconv_w(x, w, de):\n",
    "    for k in range(x.shape[0]):\n",
    "        for z in range(w.shape[2]):\n",
    "            h_range = int(np.ceil((x.shape[1] - rate * (filter_size-1)) / stride) + 1)\n",
    "            for _h in range(h_range):\n",
    "                weighted = deatrous_w(x[k, _h * stride:_h * stride + filter_size + rate, :], w[:, :, z],\n",
    "                                         de[k, _h * stride:_h * stride + filter_size + rate, :])\n",
    "                w[:, :, z] = weighted\n",
    "    return w\n",
    "\n",
    "def deconv_x(x, w, de):\n",
    "    for k in range(x.shape[0]):\n",
    "        for z in range(x.shape[2]):\n",
    "            h_range = int(np.ceil((x.shape[1] - rate * (filter_size-1)) / stride) + 1)\n",
    "            for _h in range(h_range):\n",
    "                atroused = atrous(de[k, _h * stride:_h * stride + filter_size + rate, :], w[:, z, :])\n",
    "                x[k, _h, z] = np.sum(atroused)\n",
    "    return x"
   ]
  },
  {
   "cell_type": "code",
   "execution_count": 19,
   "metadata": {},
   "outputs": [
    {
     "data": {
      "text/plain": [
       "(3, 3, 7)"
      ]
     },
     "execution_count": 19,
     "metadata": {},
     "output_type": "execute_result"
    }
   ],
   "source": [
    "dkernel = np.zeros(kernel.shape)\n",
    "deconv_w(out_atrous, dkernel, out_atrous).shape"
   ]
  },
  {
   "cell_type": "code",
   "execution_count": 20,
   "metadata": {},
   "outputs": [
    {
     "data": {
      "text/plain": [
       "(1, 7, 3)"
      ]
     },
     "execution_count": 20,
     "metadata": {},
     "output_type": "execute_result"
    }
   ],
   "source": [
    "dx = np.zeros(x.shape)\n",
    "deconv_x(dx, kernel, out_atrous).shape"
   ]
  },
  {
   "cell_type": "code",
   "execution_count": null,
   "metadata": {},
   "outputs": [],
   "source": []
  }
 ],
 "metadata": {
  "kernelspec": {
   "display_name": "Python 3",
   "language": "python",
   "name": "python3"
  },
  "language_info": {
   "codemirror_mode": {
    "name": "ipython",
    "version": 3
   },
   "file_extension": ".py",
   "mimetype": "text/x-python",
   "name": "python",
   "nbconvert_exporter": "python",
   "pygments_lexer": "ipython3",
   "version": "3.5.2"
  }
 },
 "nbformat": 4,
 "nbformat_minor": 2
}
