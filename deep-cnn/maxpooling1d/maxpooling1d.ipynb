{
 "cells": [
  {
   "cell_type": "code",
   "execution_count": 1,
   "metadata": {},
   "outputs": [],
   "source": [
    "import numpy as np"
   ]
  },
  {
   "cell_type": "code",
   "execution_count": 2,
   "metadata": {},
   "outputs": [],
   "source": [
    "nf = 3  # number of filters\n",
    "rf = 3  # filter size\n",
    "stride = 2\n",
    "x = np.random.randn(1, 7, 3)\n",
    "out = np.zeros((1, 3, nf))\n",
    "out_argmax = np.zeros((1, 3, nf))"
   ]
  },
  {
   "cell_type": "code",
   "execution_count": 3,
   "metadata": {},
   "outputs": [],
   "source": [
    "for k in range(x.shape[0]):\n",
    "    for z in range(nf):\n",
    "        h_range = int((x.shape[1] - rf) / stride) + 1\n",
    "        for _h in range(h_range):\n",
    "            out[k, _h, z] = np.amax(x[k, _h * stride:_h * stride + rf, :])\n",
    "            out_argmax[k, _h, z] = np.argmax(x[k, _h * stride:_h * stride + rf, :])"
   ]
  },
  {
   "cell_type": "code",
   "execution_count": 4,
   "metadata": {},
   "outputs": [],
   "source": [
    "# we assumed de = out\n",
    "dx = np.zeros((x.shape))"
   ]
  },
  {
   "cell_type": "code",
   "execution_count": 5,
   "metadata": {},
   "outputs": [],
   "source": [
    "for k in range(x.shape[0]):\n",
    "    for z in range(nf):\n",
    "        h_range = int((x.shape[1] - rf) / stride) + 1\n",
    "        for _h in range(h_range):\n",
    "            dx[k, _h * stride:_h * stride + rf, :].flat[int(out_argmax[k, _h, z])] = out[k, _h, z]"
   ]
  },
  {
   "cell_type": "code",
   "execution_count": 6,
   "metadata": {},
   "outputs": [
    {
     "data": {
      "text/plain": [
       "array([[[ 0.        ,  0.        ,  0.        ],\n",
       "        [ 0.        ,  0.        ,  0.        ],\n",
       "        [ 0.        ,  3.05578356,  0.        ],\n",
       "        [ 0.        ,  0.        ,  0.        ],\n",
       "        [ 1.73467803,  0.        ,  0.        ],\n",
       "        [ 0.        ,  0.        ,  0.        ],\n",
       "        [ 0.        ,  0.        ,  0.        ]]])"
      ]
     },
     "execution_count": 6,
     "metadata": {},
     "output_type": "execute_result"
    }
   ],
   "source": [
    "dx"
   ]
  },
  {
   "cell_type": "code",
   "execution_count": null,
   "metadata": {},
   "outputs": [],
   "source": []
  }
 ],
 "metadata": {
  "kernelspec": {
   "display_name": "Python 3",
   "language": "python",
   "name": "python3"
  },
  "language_info": {
   "codemirror_mode": {
    "name": "ipython",
    "version": 3
   },
   "file_extension": ".py",
   "mimetype": "text/x-python",
   "name": "python",
   "nbconvert_exporter": "python",
   "pygments_lexer": "ipython3",
   "version": "3.5.2"
  }
 },
 "nbformat": 4,
 "nbformat_minor": 2
}
