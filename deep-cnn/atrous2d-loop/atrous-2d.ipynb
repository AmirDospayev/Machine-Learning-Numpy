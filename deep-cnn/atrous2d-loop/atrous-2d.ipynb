{
 "cells": [
  {
   "cell_type": "markdown",
   "metadata": {},
   "source": [
    "What is atrous convolution? atrous is a french word, means hole.\n",
    "\n",
    "![alt text](http://liangchiehchen.com/fig/deeplab_aspp.jpg)"
   ]
  },
  {
   "cell_type": "code",
   "execution_count": 1,
   "metadata": {},
   "outputs": [],
   "source": [
    "import numpy as np"
   ]
  },
  {
   "cell_type": "code",
   "execution_count": 2,
   "metadata": {},
   "outputs": [
    {
     "data": {
      "text/plain": [
       "array([[ 0.,  0.,  0.],\n",
       "       [ 0.,  0.,  0.],\n",
       "       [ 0.,  0.,  0.]])"
      ]
     },
     "execution_count": 2,
     "metadata": {},
     "output_type": "execute_result"
    }
   ],
   "source": [
    "x = np.zeros((3,3))\n",
    "rate = 2\n",
    "x"
   ]
  },
  {
   "cell_type": "code",
   "execution_count": 3,
   "metadata": {},
   "outputs": [
    {
     "data": {
      "text/plain": [
       "array([[ 1.,  1.,  1.,  1.,  1.],\n",
       "       [ 1.,  1.,  1.,  1.,  1.],\n",
       "       [ 1.,  1.,  1.,  1.,  1.],\n",
       "       [ 1.,  1.,  1.,  1.,  1.],\n",
       "       [ 1.,  1.,  1.,  1.,  1.]])"
      ]
     },
     "execution_count": 3,
     "metadata": {},
     "output_type": "execute_result"
    }
   ],
   "source": [
    "atrous = np.ones(np.array(x.shape) + rate)\n",
    "atrous"
   ]
  },
  {
   "cell_type": "code",
   "execution_count": 4,
   "metadata": {},
   "outputs": [
    {
     "data": {
      "text/plain": [
       "array([[ 0.,  1.,  0.,  1.,  0.],\n",
       "       [ 1.,  1.,  1.,  1.,  1.],\n",
       "       [ 0.,  1.,  0.,  1.,  0.],\n",
       "       [ 1.,  1.,  1.,  1.,  1.],\n",
       "       [ 0.,  1.,  0.,  1.,  0.]])"
      ]
     },
     "execution_count": 4,
     "metadata": {},
     "output_type": "execute_result"
    }
   ],
   "source": [
    "for i in range(0, atrous.shape[0], rate //2+1):\n",
    "    for k in range(0, atrous.shape[1], rate // 2+1):\n",
    "        atrous[i,k] = atrous[i,k] * x[int(i/rate/2)+1,int(k/rate/2)+1]\n",
    "atrous"
   ]
  },
  {
   "cell_type": "code",
   "execution_count": 6,
   "metadata": {},
   "outputs": [],
   "source": [
    "x = np.random.rand(1,7,7,3)\n",
    "kernel = np.random.rand(3,3,3,7)\n",
    "filter_size = kernel.shape[0]\n",
    "stride = 2\n",
    "rate = 2"
   ]
  },
  {
   "cell_type": "code",
   "execution_count": 8,
   "metadata": {},
   "outputs": [],
   "source": [
    "def padding(x, filter_size, pad='SAME'):\n",
    "    if pad == 'SAME':\n",
    "        pad_h_min = int(np.floor((filter_size - 1)/2))\n",
    "        pad_h_max = int(np.ceil((filter_size - 1)/2))\n",
    "        pad_w_min = int(np.floor((filter_size - 1)/2))\n",
    "        pad_w_max = int(np.ceil((filter_size - 1)/2))\n",
    "        pad_h, pad_w = (pad_h_min, pad_h_max), (pad_w_min, pad_w_max)\n",
    "        return np.pad(x, ((0, 0), pad_h, pad_w, (0, 0)), mode='constant')\n",
    "    else:\n",
    "        return x\n",
    "    \n",
    "def get_shape(x):\n",
    "    output_height = int(np.ceil((x.shape[1] - rate * (filter_size-1)) / stride) + 1)\n",
    "    output_width = int(np.ceil((x.shape[2] - rate * (filter_size-1)) / stride) + 1)\n",
    "    return int(output_height), int(output_width)"
   ]
  },
  {
   "cell_type": "code",
   "execution_count": 9,
   "metadata": {},
   "outputs": [
    {
     "data": {
      "text/plain": [
       "(1, 4, 4, 7)"
      ]
     },
     "execution_count": 9,
     "metadata": {},
     "output_type": "execute_result"
    }
   ],
   "source": [
    "x_padded = padding(x, filter_size)\n",
    "h, w = get_shape(x_padded)\n",
    "out_atrous = np.zeros((1, h, w, kernel.shape[3]))\n",
    "out_atrous.shape"
   ]
  },
  {
   "cell_type": "code",
   "execution_count": 11,
   "metadata": {},
   "outputs": [],
   "source": [
    "def atrous(x, w):\n",
    "    for i in range(0, x.shape[0], rate //2+1):\n",
    "        for k in range(0, x.shape[1], rate // 2+1):\n",
    "            x[i,k,:] = x[i,k,:] * w[int(i/rate/2)+1,int(k/rate/2)+1,:]\n",
    "    return x\n",
    "\n",
    "def conv(x, w, out):\n",
    "    for k in range(x.shape[0]):\n",
    "        for z in range(w.shape[3]):\n",
    "            h_range = int(np.ceil((x.shape[1] - rate * (filter_size-1)) / stride) + 1)\n",
    "            for _h in range(h_range):\n",
    "                w_range = int(np.ceil((x.shape[2] - rate * (filter_size-1)) / stride) + 1)\n",
    "                for _w in range(w_range):\n",
    "                    atroused = atrous(x[k, \n",
    "                                        _h * stride:_h * stride + filter_size + rate, \n",
    "                                        _w * stride:_w * stride + filter_size + rate, :],\n",
    "                                     w[:, :, :, z])\n",
    "                    out[k, _h, _w, z] = np.sum(atroused)\n",
    "    return out"
   ]
  },
  {
   "cell_type": "code",
   "execution_count": 15,
   "metadata": {},
   "outputs": [],
   "source": [
    "out_atrous = conv(x_padded, kernel, out_atrous)"
   ]
  },
  {
   "cell_type": "code",
   "execution_count": 33,
   "metadata": {},
   "outputs": [],
   "source": [
    "def deatrous_w(x, w, de):\n",
    "    for i in range(0, x.shape[0], rate //2+1):\n",
    "        for k in range(0, x.shape[1], rate // 2+1):\n",
    "            w[int(i/rate/2)+1,int(k/rate/2)+1,:] = np.sum(x[i,k,:] * de[i,k,:])\n",
    "    return w\n",
    "\n",
    "def deconv_w(x, w, de):\n",
    "    for k in range(x.shape[0]):\n",
    "        for z in range(w.shape[3]):\n",
    "            h_range = int(np.ceil((x.shape[1] - rate * (filter_size-1)) / stride) + 1)\n",
    "            for _h in range(h_range):\n",
    "                w_range = int(np.ceil((x.shape[2] - rate * (filter_size-1)) / stride) + 1)\n",
    "                for _w in range(w_range):\n",
    "                    weighted = deatrous_w(x[k, \n",
    "                                            _h * stride:_h * stride + filter_size + rate, \n",
    "                                            _w * stride:_w * stride + filter_size + rate, :],\n",
    "                                            w[:, :, :, z],\n",
    "                                         de[k, \n",
    "                                            _h * stride:_h * stride + filter_size + rate, \n",
    "                                            _w * stride:_w * stride + filter_size + rate, :])\n",
    "                    w[:, :, :, z] = weighted\n",
    "    return w\n",
    "\n",
    "def deconv_x(x, w, de):\n",
    "    for k in range(x.shape[0]):\n",
    "        for z in range(x.shape[3]):\n",
    "            h_range = int(np.ceil((x.shape[1] - rate * (filter_size-1)) / stride) + 1)\n",
    "            for _h in range(h_range):\n",
    "                w_range = int(np.ceil((x.shape[2] - rate * (filter_size-1)) / stride) + 1)\n",
    "                for _w in range(w_range):\n",
    "                    atroused = atrous(de[k, \n",
    "                                        _h * stride:_h * stride + filter_size + rate, \n",
    "                                        _w * stride:_w * stride + filter_size + rate, :], w[:, :, z, :])\n",
    "                    x[k, _h, _w, z] = np.sum(atroused)\n",
    "    return x"
   ]
  },
  {
   "cell_type": "code",
   "execution_count": 27,
   "metadata": {},
   "outputs": [
    {
     "data": {
      "text/plain": [
       "(3, 3, 3, 7)"
      ]
     },
     "execution_count": 27,
     "metadata": {},
     "output_type": "execute_result"
    }
   ],
   "source": [
    "dkernel = np.zeros(kernel.shape)\n",
    "deconv_w(out_atrous, dkernel, out_atrous).shape"
   ]
  },
  {
   "cell_type": "code",
   "execution_count": 36,
   "metadata": {},
   "outputs": [
    {
     "data": {
      "text/plain": [
       "(1, 7, 7, 3)"
      ]
     },
     "execution_count": 36,
     "metadata": {},
     "output_type": "execute_result"
    }
   ],
   "source": [
    "dx = np.zeros(x.shape)\n",
    "deconv_x(dx, kernel, out_atrous).shape"
   ]
  },
  {
   "cell_type": "code",
   "execution_count": null,
   "metadata": {},
   "outputs": [],
   "source": []
  }
 ],
 "metadata": {
  "kernelspec": {
   "display_name": "Python 3",
   "language": "python",
   "name": "python3"
  },
  "language_info": {
   "codemirror_mode": {
    "name": "ipython",
    "version": 3
   },
   "file_extension": ".py",
   "mimetype": "text/x-python",
   "name": "python",
   "nbconvert_exporter": "python",
   "pygments_lexer": "ipython3",
   "version": "3.5.2"
  }
 },
 "nbformat": 4,
 "nbformat_minor": 2
}
